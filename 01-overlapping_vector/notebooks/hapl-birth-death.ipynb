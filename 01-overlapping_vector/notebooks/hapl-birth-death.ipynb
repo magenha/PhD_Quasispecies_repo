{
 "cells": [
  {
   "cell_type": "code",
   "execution_count": 58,
   "id": "27df9c87",
   "metadata": {},
   "outputs": [],
   "source": [
    "#import libraries\n",
    "\n",
    "import numpy as np\n",
    "import matplotlib.pyplot as plt\n",
    "from matplotlib import animation\n",
    "from mpl_toolkits import mplot3d\n",
    "import pandas as pd\n",
    "import math\n",
    "from os import listdir\n",
    "from os.path import isfile, join\n",
    "import os\n",
    "import itertools\n",
    "import random"
   ]
  },
  {
   "cell_type": "code",
   "execution_count": 59,
   "id": "a57a8488",
   "metadata": {},
   "outputs": [
    {
     "name": "stdout",
     "output_type": "stream",
     "text": [
      "step=36 for t=30\n",
      "step=28 for t=30\n",
      "step=34 for t=43\n",
      "step=46 for t=43\n",
      "step=58 for t=30\n",
      "step=22 for t=30\n",
      "step=16 for t=43\n",
      "step=40 for t=30\n",
      "step=42 for t=43\n",
      "step=18 for t=30\n",
      "step=12 for t=43\n",
      "step=44 for t=30\n",
      "step=40 for t=43\n",
      "step=44 for t=43\n",
      "step=58 for t=43\n",
      "step=22 for t=43\n",
      "step=4 for t=30\n",
      "step=38 for t=30\n",
      "step=56 for t=43\n",
      "step=12 for t=30\n",
      "step=42 for t=30\n",
      "step=30 for t=30\n",
      "step=34 for t=30\n",
      "step=14 for t=43\n",
      "step=38 for t=43\n",
      "step=30 for t=43\n",
      "step=32 for t=43\n",
      "step=60 for t=43\n",
      "step=16 for t=30\n",
      "step=14 for t=30\n",
      "step=26 for t=30\n",
      "step=26 for t=43\n",
      "step=46 for t=30\n",
      "step=50 for t=43\n",
      "step=48 for t=43\n",
      "step=10 for t=43\n",
      "step=6 for t=30\n",
      "step=54 for t=30\n",
      "step=8 for t=43\n",
      "step=2 for t=43\n",
      "step=2 for t=30\n",
      "step=54 for t=43\n",
      "step=4 for t=43\n",
      "step=52 for t=30\n",
      "step=52 for t=43\n",
      "step=56 for t=30\n",
      "step=48 for t=30\n",
      "step=1 for t=43\n",
      "step=20 for t=43\n",
      "step=20 for t=30\n",
      "step=32 for t=30\n",
      "step=28 for t=43\n",
      "step=36 for t=43\n",
      "step=6 for t=43\n",
      "step=50 for t=30\n",
      "step=60 for t=30\n",
      "step=10 for t=30\n",
      "step=25 for t=30\n",
      "step=23 for t=30\n",
      "step=18 for t=43\n",
      "step=23 for t=43\n",
      "step=8 for t=30\n"
     ]
    }
   ],
   "source": [
    "#Read and storage data\n",
    "\n",
    "#Read the index dictionary\n",
    "#Revert the index \n",
    "index_name = 'seqs_index.dict'\n",
    "\n",
    "index_dict = {}\n",
    "\n",
    "with open(index_name, 'r') as f:\n",
    "    for line in f:\n",
    "        L = line.split('\\t')\n",
    "        index_dict[L[1][:-1]] = int(L[0])\n",
    "        \n",
    "WD = os.getcwd()\n",
    "mypath = WD + '/data'\n",
    "file_output = WD + '/'+ 'seqs_index.dict'\n",
    "\n",
    "#Obtain the file names\n",
    "onlyfiles = [f for f in listdir(mypath) if isfile(join(mypath, f))]\n",
    "data_dict = {}\n",
    "data_dict[43] = {}\n",
    "data_dict[30] = {}\n",
    "\n",
    "#Interpret file name, and extract step number from it\n",
    "\n",
    "for a in onlyfiles:    \n",
    "    if a[0] == 'c':\n",
    "        step = int(a.split('-')[1][1:])\n",
    "        t=43\n",
    "        print(f'step={step} for t={t}')\n",
    "    elif a[0] == '3':\n",
    "        step = int(a.split('-')[2])\n",
    "        t=30\n",
    "        print(f'step={step} for t={t}')\n",
    "    \n",
    "    file_name = WD + '/data/' + a\n",
    "    seq_2_ab = {}\n",
    "    with open(file_name, 'r') as r:\n",
    "        for line in r:\n",
    "            if line[0] == '>':\n",
    "                abundance = int(line.split('-')[1][:-1])\n",
    "                #print(abundance)\n",
    "            else:\n",
    "                sequence = line[:-1]\n",
    "                hapl = index_dict[sequence]\n",
    "                seq_2_ab[hapl]= abundance\n",
    "    data_dict[t][step] = seq_2_ab\n",
    "df = {}\n",
    "#Upload data to DataFrame\n",
    "df[43] = pd.DataFrame([])\n",
    "df[30] = pd.DataFrame([])\n",
    "df[43] = pd.DataFrame.from_dict(data_dict[43])\n",
    "df[30] = pd.DataFrame.from_dict(data_dict[30])\n",
    "df[43] = df[43].fillna(0)\n",
    "df[30] = df[30].fillna(0)\n",
    "temps = [30,43]"
   ]
  },
  {
   "cell_type": "code",
   "execution_count": 5,
   "id": "8b02770c",
   "metadata": {},
   "outputs": [],
   "source": [
    "t=30\n",
    "L = df[t].columns.tolist()\n",
    "L.sort()"
   ]
  },
  {
   "cell_type": "code",
   "execution_count": 44,
   "id": "4d485a90",
   "metadata": {},
   "outputs": [
    {
     "name": "stdout",
     "output_type": "stream",
     "text": [
      "Remaining 23.334132310642378\n",
      "Death 76.66586768935763\n",
      "New 94.83746088985524\n"
     ]
    }
   ],
   "source": [
    "step = 4   #prev = 2   next =6\n",
    "df_s = df[t][step]\n",
    "a = df_s.loc[(df_s!=0)].index.tolist()\n",
    "\n",
    "next_step = 6\n",
    "df_s = df[t][next_step]\n",
    "b = df_s.loc[(df_s!=0)].index.tolist()\n",
    "\n",
    "inters = list(set(a) & set(b))\n",
    "death = list(set(a) - set(b))\n",
    "new = list(set(b) - set(a))\n",
    "print('Remaining',len(inters)/len(a)*100)\n",
    "print('Death',len(death)/len(a)*100)\n",
    "print('New',len(new)/len(b)*100)"
   ]
  },
  {
   "cell_type": "code",
   "execution_count": null,
   "id": "5eb180c3",
   "metadata": {},
   "outputs": [],
   "source": [
    "#How many haplotypes in lst_2 are not in lst_1"
   ]
  },
  {
   "cell_type": "code",
   "execution_count": 60,
   "id": "75a9d326",
   "metadata": {},
   "outputs": [
    {
     "data": {
      "image/png": "[encoded data removed]",
      "text/plain": [
       "<Figure size 640x480 with 1 Axes>"
      ]
     },
     "metadata": {},
     "output_type": "display_data"
    }
   ],
   "source": [
    "plt.figure()\n",
    "new_hapls = []\n",
    "rem_hapls = []\n",
    "death_hapls = []\n",
    "t = 43\n",
    "L = df[t].columns.tolist()\n",
    "L.sort()\n",
    "for i,step in enumerate(L[:-1]):\n",
    "    df_s = df[t][step]\n",
    "    a = df_s.loc[(df_s!=0)].index.tolist()\n",
    "    next_step = L[i+1]\n",
    "    df_s = df[t][next_step]\n",
    "    b = df_s.loc[(df_s!=0)].index.tolist()\n",
    "\n",
    "    inters = list(set(a) & set(b))\n",
    "    death = list(set(a) - set(b))\n",
    "    new = list(set(b) - set(a))\n",
    "    \n",
    "    death_hapls.append(len(death)/len(a))\n",
    "    new_hapls.append(len(new)/len(b))\n",
    "    rem_hapls.append(len(inters)/len(a))\n",
    "    #print(len(death)/len(a)+len(inters)/len(a))\n",
    "    \n",
    "#plt.plot(L[:-1],death_hapls, 'o-', label=f'death')\n",
    "plt.plot(L[:-1],new_hapls, 'o-', label=f'new')\n",
    "plt.plot(L[:-1],rem_hapls, 'o-', label=f'rem')\n",
    "plt.legend(loc='best')\n",
    "plt.show()"
   ]
  },
  {
   "cell_type": "code",
   "execution_count": null,
   "id": "f2130dcb",
   "metadata": {},
   "outputs": [],
   "source": []
  }
 ],
 "metadata": {
  "kernelspec": {
   "display_name": "Python 3 (ipykernel)",
   "language": "python",
   "name": "python3"
  },
  "language_info": {
   "codemirror_mode": {
    "name": "ipython",
    "version": 3
   },
   "file_extension": ".py",
   "mimetype": "text/x-python",
   "name": "python",
   "nbconvert_exporter": "python",
   "pygments_lexer": "ipython3",
   "version": "3.10.6"
  }
 },
 "nbformat": 4,
 "nbformat_minor": 5
}
