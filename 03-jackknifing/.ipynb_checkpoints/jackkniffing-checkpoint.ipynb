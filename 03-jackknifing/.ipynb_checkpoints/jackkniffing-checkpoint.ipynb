{
 "cells": [
  {
   "cell_type": "code",
   "execution_count": null,
   "id": "f659b8fc",
   "metadata": {},
   "outputs": [],
   "source": []
  },
  {
   "cell_type": "code",
   "execution_count": 32,
   "id": "9b381d69",
   "metadata": {},
   "outputs": [],
   "source": [
    "import numpy as np\n",
    "import matplotlib.pyplot as plt\n",
    "from matplotlib import animation\n",
    "import itertools\n",
    "import pandas as pd\n",
    "import math\n",
    "import random"
   ]
  },
  {
   "cell_type": "code",
   "execution_count": null,
   "id": "8d750ff2",
   "metadata": {},
   "outputs": [],
   "source": []
  },
  {
   "cell_type": "code",
   "execution_count": 4,
   "id": "357c6407",
   "metadata": {},
   "outputs": [],
   "source": [
    "#Read the index dictionary\n",
    "#Revert the index \n",
    "index_name = 'seqs_index.dict'\n",
    "\n",
    "index_dict = {}\n",
    "\n",
    "with open(index_name, 'r') as f:\n",
    "    for line in f:\n",
    "        L = line.split('\\t')\n",
    "        index_dict[L[1][:-1]] = int(L[0])"
   ]
  },
  {
   "cell_type": "code",
   "execution_count": 5,
   "id": "01169b3c",
   "metadata": {},
   "outputs": [],
   "source": [
    "from os import listdir\n",
    "from os.path import isfile, join\n",
    "import os\n",
    "WD = os.getcwd()\n",
    "mypath = WD + '/data'\n",
    "file_output = WD + '/'+ 'seqs_index.dict'\n",
    "\n",
    "#Obtain the file names\n",
    "onlyfiles = [f for f in listdir(mypath) if isfile(join(mypath, f))]\n",
    "data_dict = {}\n",
    "data_dict[43] = {}\n",
    "data_dict[30] = {}"
   ]
  },
  {
   "cell_type": "code",
   "execution_count": null,
   "id": "8a89cbc9",
   "metadata": {},
   "outputs": [],
   "source": []
  },
  {
   "cell_type": "code",
   "execution_count": 6,
   "id": "ddc14a32",
   "metadata": {},
   "outputs": [
    {
     "name": "stdout",
     "output_type": "stream",
     "text": [
      "step=36 for t=30\n",
      "step=28 for t=30\n",
      "step=34 for t=43\n",
      "step=46 for t=43\n",
      "step=58 for t=30\n",
      "step=22 for t=30\n",
      "step=16 for t=43\n",
      "step=40 for t=30\n",
      "step=42 for t=43\n",
      "step=18 for t=30\n",
      "step=12 for t=43\n",
      "step=44 for t=30\n",
      "step=40 for t=43\n",
      "step=44 for t=43\n",
      "step=58 for t=43\n",
      "step=22 for t=43\n",
      "step=4 for t=30\n",
      "step=38 for t=30\n",
      "step=56 for t=43\n",
      "step=12 for t=30\n",
      "step=42 for t=30\n",
      "step=30 for t=30\n",
      "step=34 for t=30\n",
      "step=14 for t=43\n",
      "step=38 for t=43\n",
      "step=30 for t=43\n",
      "step=32 for t=43\n",
      "step=60 for t=43\n",
      "step=16 for t=30\n",
      "step=14 for t=30\n",
      "step=26 for t=30\n",
      "step=26 for t=43\n",
      "step=46 for t=30\n",
      "step=50 for t=43\n",
      "step=48 for t=43\n",
      "step=10 for t=43\n",
      "step=6 for t=30\n",
      "step=54 for t=30\n",
      "step=8 for t=43\n",
      "step=2 for t=43\n",
      "step=2 for t=30\n",
      "step=54 for t=43\n",
      "step=4 for t=43\n",
      "step=52 for t=30\n",
      "step=52 for t=43\n",
      "step=56 for t=30\n",
      "step=48 for t=30\n",
      "step=1 for t=43\n",
      "step=20 for t=43\n",
      "step=20 for t=30\n",
      "step=32 for t=30\n",
      "step=28 for t=43\n",
      "step=36 for t=43\n",
      "step=6 for t=43\n",
      "step=50 for t=30\n",
      "step=60 for t=30\n",
      "step=10 for t=30\n",
      "step=25 for t=30\n",
      "step=23 for t=30\n",
      "step=18 for t=43\n",
      "step=23 for t=43\n",
      "step=8 for t=30\n"
     ]
    }
   ],
   "source": [
    "#a = onlyfiles[0]\n",
    "#Interpret file name, and extract step number from it\n",
    "\n",
    "for a in onlyfiles:    \n",
    "    if a[0] == 'c':\n",
    "        step = int(a.split('-')[1][1:])\n",
    "        t=43\n",
    "        print(f'step={step} for t={t}')\n",
    "    elif a[0] == '3':\n",
    "        step = int(a.split('-')[2])\n",
    "        t=30\n",
    "        print(f'step={step} for t={t}')\n",
    "    \n",
    "    file_name = WD + '/data/' + a\n",
    "    seq_2_ab = {}\n",
    "    with open(file_name, 'r') as r:\n",
    "        for line in r:\n",
    "            if line[0] == '>':\n",
    "                abundance = int(line.split('-')[1][:-1])\n",
    "                #print(abundance)\n",
    "            else:\n",
    "                sequence = line[:-1]\n",
    "                hapl = index_dict[sequence]\n",
    "                seq_2_ab[hapl]= abundance\n",
    "    data_dict[t][step] = seq_2_ab"
   ]
  },
  {
   "cell_type": "code",
   "execution_count": 7,
   "id": "66dc2c38",
   "metadata": {},
   "outputs": [],
   "source": [
    "df = {}\n",
    "#Upload data to DataFrame\n",
    "df[43] = pd.DataFrame([])\n",
    "df[30] = pd.DataFrame([])\n",
    "df[43] = pd.DataFrame.from_dict(data_dict[43])\n",
    "df[30] = pd.DataFrame.from_dict(data_dict[30])\n",
    "df[43] = df[43].fillna(0)\n",
    "df[30] = df[30].fillna(0)\n"
   ]
  },
  {
   "cell_type": "code",
   "execution_count": 17,
   "id": "60c54cfd",
   "metadata": {},
   "outputs": [],
   "source": [
    "column = df[30][20].to_dict()\n",
    "index = df[30].index"
   ]
  },
  {
   "cell_type": "code",
   "execution_count": 41,
   "id": "1cd0d413",
   "metadata": {},
   "outputs": [],
   "source": [
    "desampled = []\n",
    "for element in column:\n",
    "    desampled.append([element for i in range(int(column[element]))])\n",
    "desampled = list(itertools.chain(*desampled))\n",
    "random.shuffle(desampled)"
   ]
  },
  {
   "cell_type": "code",
   "execution_count": null,
   "id": "09719e70",
   "metadata": {},
   "outputs": [],
   "source": []
  },
  {
   "cell_type": "code",
   "execution_count": null,
   "id": "0c62b2d2",
   "metadata": {},
   "outputs": [],
   "source": []
  },
  {
   "cell_type": "code",
   "execution_count": 36,
   "id": "85e47c97",
   "metadata": {},
   "outputs": [
    {
     "name": "stdout",
     "output_type": "stream",
     "text": [
      "['b', 'c', 'a']\n"
     ]
    }
   ],
   "source": [
    "a = ['a', 'b', 'c']\n",
    "\n",
    "print(a)"
   ]
  },
  {
   "cell_type": "code",
   "execution_count": null,
   "id": "ff6a6dd3",
   "metadata": {},
   "outputs": [],
   "source": []
  },
  {
   "cell_type": "code",
   "execution_count": null,
   "id": "b9773930",
   "metadata": {},
   "outputs": [],
   "source": []
  },
  {
   "cell_type": "code",
   "execution_count": null,
   "id": "1d9760b9",
   "metadata": {},
   "outputs": [],
   "source": []
  },
  {
   "cell_type": "code",
   "execution_count": null,
   "id": "50e2aca3",
   "metadata": {},
   "outputs": [],
   "source": []
  },
  {
   "cell_type": "code",
   "execution_count": null,
   "id": "d8a428d6",
   "metadata": {},
   "outputs": [],
   "source": []
  },
  {
   "cell_type": "code",
   "execution_count": null,
   "id": "915459f5",
   "metadata": {},
   "outputs": [],
   "source": []
  },
  {
   "cell_type": "code",
   "execution_count": 56,
   "id": "f71d0e29",
   "metadata": {},
   "outputs": [],
   "source": []
  },
  {
   "cell_type": "code",
   "execution_count": null,
   "id": "2f555f07",
   "metadata": {},
   "outputs": [],
   "source": []
  },
  {
   "cell_type": "code",
   "execution_count": null,
   "id": "f9296648",
   "metadata": {},
   "outputs": [],
   "source": []
  },
  {
   "cell_type": "code",
   "execution_count": null,
   "id": "5506ad33",
   "metadata": {},
   "outputs": [],
   "source": []
  },
  {
   "cell_type": "code",
   "execution_count": null,
   "id": "6eb2065e",
   "metadata": {},
   "outputs": [],
   "source": []
  },
  {
   "cell_type": "code",
   "execution_count": 92,
   "id": "4d58fbf9",
   "metadata": {},
   "outputs": [],
   "source": []
  },
  {
   "cell_type": "code",
   "execution_count": null,
   "id": "76cd4ccb",
   "metadata": {},
   "outputs": [],
   "source": []
  },
  {
   "cell_type": "code",
   "execution_count": null,
   "id": "522e9b49",
   "metadata": {},
   "outputs": [],
   "source": []
  },
  {
   "cell_type": "code",
   "execution_count": null,
   "id": "cb62d5e3",
   "metadata": {},
   "outputs": [],
   "source": []
  },
  {
   "cell_type": "code",
   "execution_count": null,
   "id": "09095ec3",
   "metadata": {},
   "outputs": [],
   "source": []
  },
  {
   "cell_type": "code",
   "execution_count": null,
   "id": "7f0f7313",
   "metadata": {},
   "outputs": [],
   "source": []
  },
  {
   "cell_type": "code",
   "execution_count": null,
   "id": "f468d0ca",
   "metadata": {},
   "outputs": [],
   "source": []
  },
  {
   "cell_type": "code",
   "execution_count": null,
   "id": "ac983f2b",
   "metadata": {},
   "outputs": [],
   "source": []
  },
  {
   "cell_type": "code",
   "execution_count": null,
   "id": "156ea532",
   "metadata": {},
   "outputs": [],
   "source": []
  },
  {
   "cell_type": "code",
   "execution_count": null,
   "id": "e012b837",
   "metadata": {},
   "outputs": [],
   "source": []
  },
  {
   "cell_type": "code",
   "execution_count": null,
   "id": "aabc58d9",
   "metadata": {},
   "outputs": [],
   "source": []
  },
  {
   "cell_type": "code",
   "execution_count": null,
   "id": "e3b3c7eb",
   "metadata": {},
   "outputs": [],
   "source": []
  },
  {
   "cell_type": "code",
   "execution_count": null,
   "id": "88b5ef26",
   "metadata": {},
   "outputs": [],
   "source": []
  },
  {
   "cell_type": "code",
   "execution_count": null,
   "id": "41590011",
   "metadata": {},
   "outputs": [],
   "source": []
  },
  {
   "cell_type": "code",
   "execution_count": null,
   "id": "71e4aa89",
   "metadata": {},
   "outputs": [],
   "source": []
  },
  {
   "cell_type": "code",
   "execution_count": null,
   "id": "3fc018a4",
   "metadata": {},
   "outputs": [],
   "source": []
  },
  {
   "cell_type": "code",
   "execution_count": null,
   "id": "eb56e415",
   "metadata": {},
   "outputs": [],
   "source": []
  },
  {
   "cell_type": "code",
   "execution_count": null,
   "id": "93bb83cc",
   "metadata": {},
   "outputs": [],
   "source": []
  },
  {
   "cell_type": "code",
   "execution_count": null,
   "id": "9e7b5641",
   "metadata": {},
   "outputs": [],
   "source": []
  },
  {
   "cell_type": "code",
   "execution_count": null,
   "id": "38f62fde",
   "metadata": {},
   "outputs": [],
   "source": []
  },
  {
   "cell_type": "code",
   "execution_count": null,
   "id": "3d7687f1",
   "metadata": {},
   "outputs": [],
   "source": []
  },
  {
   "cell_type": "code",
   "execution_count": null,
   "id": "7a7552d0",
   "metadata": {},
   "outputs": [],
   "source": []
  },
  {
   "cell_type": "code",
   "execution_count": null,
   "id": "73fc2326",
   "metadata": {},
   "outputs": [],
   "source": []
  },
  {
   "cell_type": "code",
   "execution_count": null,
   "id": "e42e1278",
   "metadata": {},
   "outputs": [],
   "source": []
  }
 ],
 "metadata": {
  "kernelspec": {
   "display_name": "Python 3 (ipykernel)",
   "language": "python",
   "name": "python3"
  },
  "language_info": {
   "codemirror_mode": {
    "name": "ipython",
    "version": 3
   },
   "file_extension": ".py",
   "mimetype": "text/x-python",
   "name": "python",
   "nbconvert_exporter": "python",
   "pygments_lexer": "ipython3",
   "version": "3.10.6"
  }
 },
 "nbformat": 4,
 "nbformat_minor": 5
}
