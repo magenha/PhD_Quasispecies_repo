{
 "cells": [
  {
   "cell_type": "code",
   "execution_count": 1,
   "id": "a1f4cd59",
   "metadata": {},
   "outputs": [
    {
     "name": "stdout",
     "output_type": "stream",
     "text": [
      "Requirement already satisfied: python-dateutil in /home/samuel/.local/lib/python3.8/site-packages (2.8.2)\n",
      "Requirement already satisfied: six>=1.5 in /usr/lib/python3/dist-packages (from python-dateutil) (1.14.0)\n"
     ]
    }
   ],
   "source": [
    "! pip install python-dateutil"
   ]
  },
  {
   "cell_type": "code",
   "execution_count": null,
   "id": "d59be412",
   "metadata": {},
   "outputs": [],
   "source": []
  },
  {
   "cell_type": "code",
   "execution_count": 4,
   "id": "f66f0130",
   "metadata": {},
   "outputs": [],
   "source": [
    "import numpy as np\n",
    "import matplotlib.pyplot as plt\n",
    "from matplotlib import animation\n",
    "import itertools\n",
    "import pandas as pd\n",
    "import math\n",
    "import random"
   ]
  },
  {
   "cell_type": "code",
   "execution_count": null,
   "id": "6255726d",
   "metadata": {},
   "outputs": [],
   "source": []
  },
  {
   "cell_type": "code",
   "execution_count": 5,
   "id": "11400b6f",
   "metadata": {},
   "outputs": [],
   "source": [
    "#Read the index dictionary\n",
    "#Revert the index \n",
    "index_name = 'seqs_index.dict'\n",
    "\n",
    "index_dict = {}\n",
    "\n",
    "with open(index_name, 'r') as f:\n",
    "    for line in f:\n",
    "        L = line.split('\\t')\n",
    "        index_dict[L[1][:-1]] = int(L[0])"
   ]
  },
  {
   "cell_type": "code",
   "execution_count": 6,
   "id": "4cf6d549",
   "metadata": {},
   "outputs": [],
   "source": [
    "from os import listdir\n",
    "from os.path import isfile, join\n",
    "import os\n",
    "WD = os.getcwd()\n",
    "mypath = WD + '/data'\n",
    "file_output = WD + '/'+ 'seqs_index.dict'\n",
    "\n",
    "#Obtain the file names\n",
    "onlyfiles = [f for f in listdir(mypath) if isfile(join(mypath, f))]\n",
    "data_dict = {}\n",
    "data_dict[43] = {}\n",
    "data_dict[30] = {}"
   ]
  },
  {
   "cell_type": "code",
   "execution_count": null,
   "id": "a376b655",
   "metadata": {},
   "outputs": [],
   "source": []
  },
  {
   "cell_type": "code",
   "execution_count": 7,
   "id": "2083f051",
   "metadata": {},
   "outputs": [
    {
     "name": "stdout",
     "output_type": "stream",
     "text": [
      "step=36 for t=30\n",
      "step=28 for t=30\n",
      "step=34 for t=30\n",
      "step=22 for t=43\n",
      "step=60 for t=43\n",
      "step=48 for t=43\n",
      "step=2 for t=43\n",
      "step=26 for t=43\n",
      "step=16 for t=43\n",
      "step=54 for t=43\n",
      "step=50 for t=43\n",
      "step=23 for t=30\n",
      "step=1 for t=43\n",
      "step=2 for t=30\n",
      "step=56 for t=43\n",
      "step=20 for t=43\n",
      "step=26 for t=30\n",
      "step=6 for t=30\n",
      "step=6 for t=43\n",
      "step=18 for t=30\n",
      "step=44 for t=43\n",
      "step=38 for t=43\n",
      "step=54 for t=30\n",
      "step=42 for t=43\n",
      "step=50 for t=30\n",
      "step=12 for t=30\n",
      "step=56 for t=30\n",
      "step=8 for t=30\n",
      "step=23 for t=43\n",
      "step=48 for t=30\n",
      "step=25 for t=30\n",
      "step=14 for t=43\n",
      "step=28 for t=43\n",
      "step=10 for t=30\n",
      "step=58 for t=43\n",
      "step=42 for t=30\n",
      "step=20 for t=30\n",
      "step=40 for t=43\n",
      "step=12 for t=43\n",
      "step=14 for t=30\n",
      "step=4 for t=30\n",
      "step=32 for t=30\n",
      "step=52 for t=43\n",
      "step=30 for t=43\n",
      "step=18 for t=43\n",
      "step=60 for t=30\n",
      "step=36 for t=43\n",
      "step=34 for t=43\n",
      "step=40 for t=30\n",
      "step=44 for t=30\n",
      "step=46 for t=30\n",
      "step=58 for t=30\n",
      "step=30 for t=30\n",
      "step=16 for t=30\n",
      "step=32 for t=43\n",
      "step=4 for t=43\n",
      "step=8 for t=43\n",
      "step=10 for t=43\n",
      "step=38 for t=30\n",
      "step=22 for t=30\n",
      "step=52 for t=30\n",
      "step=46 for t=43\n"
     ]
    }
   ],
   "source": [
    "#a = onlyfiles[0]\n",
    "#Interpret file name, and extract step number from it\n",
    "\n",
    "for a in onlyfiles:    \n",
    "    if a[0] == 'c':\n",
    "        step = int(a.split('-')[1][1:])\n",
    "        t=43\n",
    "        print(f'step={step} for t={t}')\n",
    "    elif a[0] == '3':\n",
    "        step = int(a.split('-')[2])\n",
    "        t=30\n",
    "        print(f'step={step} for t={t}')\n",
    "    \n",
    "    file_name = WD + '/data/' + a\n",
    "    seq_2_ab = {}\n",
    "    with open(file_name, 'r') as r:\n",
    "        for line in r:\n",
    "            if line[0] == '>':\n",
    "                abundance = int(line.split('-')[1][:-1])\n",
    "                #print(abundance)\n",
    "            else:\n",
    "                sequence = line[:-1]\n",
    "                hapl = index_dict[sequence]\n",
    "                seq_2_ab[hapl]= abundance\n",
    "    data_dict[t][step] = seq_2_ab"
   ]
  },
  {
   "cell_type": "code",
   "execution_count": 8,
   "id": "9bce14d8",
   "metadata": {},
   "outputs": [],
   "source": [
    "df = {}\n",
    "#Upload data to DataFrame\n",
    "df[43] = pd.DataFrame([])\n",
    "df[30] = pd.DataFrame([])\n",
    "df[43] = pd.DataFrame.from_dict(data_dict[43])\n",
    "df[30] = pd.DataFrame.from_dict(data_dict[30])\n",
    "df[43] = df[43].fillna(0)\n",
    "df[30] = df[30].fillna(0)\n"
   ]
  },
  {
   "cell_type": "code",
   "execution_count": 41,
   "id": "0a7f2da8",
   "metadata": {},
   "outputs": [],
   "source": [
    "t=30\n",
    "\n",
    "#Analysis of entropy in each step\n",
    "\n",
    "n_steps = len(df[t].columns)\n",
    "h_results = np.zeros((n_steps,4))\n",
    "\n",
    "box_size_rel = 0.10\n",
    "box_size = 500\n",
    "box_number = 30\n",
    "\n",
    "for n,step in enumerate(df[t].columns):\n",
    "\n",
    "    column = df[t][step].to_dict()\n",
    "    index = df[t].index\n",
    "\n",
    "    desampled = []\n",
    "    for element in column:\n",
    "        desampled.append([element for i in range(int(column[element]))])\n",
    "    desampled = list(itertools.chain(*desampled))\n",
    "    random.shuffle(desampled)\n",
    "    \n",
    "    \n",
    "    N = len(desampled)\n",
    "    #box_size = int(box_size_rel * N)\n",
    "    \n",
    "    #box_number = int(1 / box_size_rel)\n",
    "    boxes = {}\n",
    "    boxes_df = {}\n",
    "    \n",
    "    h = np.zeros(box_number)\n",
    "    \n",
    "    # Create boxes\n",
    "    for i in range(box_number):\n",
    "        boxes[i] = random.choices(desampled, k=box_size)\n",
    "\n",
    "    \n",
    "    # Compute entropy for each box \n",
    "    for i in range(box_number):\n",
    "        #df_x = pd.DataFrame([], columns = ['seq'])\n",
    "        #for j in range(box_number):\n",
    "        #    if j != i:\n",
    "        #        df_x = pd.concat([df_x, pd.DataFrame(boxes[j], columns= ['seq'])])\n",
    "        \n",
    "        df_x = pd.DataFrame(boxes[i], columns= ['seq'])      \n",
    "        boxes_df[i] = df_x.pivot_table(columns=['seq'], aggfunc='size')\n",
    "        boxes_df[i] = pd.DataFrame(boxes_df[i], columns=['abundance'])\n",
    "        boxes_df[i]['abundance_rel'] = boxes_df[i]['abundance'] / boxes_df[i]['abundance'].sum()\n",
    "        \n",
    "        \n",
    "        #Compute entropy\n",
    "        p = np.array(boxes_df[i]['abundance_rel'].tolist())\n",
    "        p = p[p.nonzero()]\n",
    "        p_log = np.log2(p)\n",
    "        p_h = -1.0*p*p_log\n",
    "        #Save results\n",
    "        h[i] = p_h.sum()    \n",
    "    \n",
    "    #Save step, mean, std_dev, and box size\n",
    "    h_results[n][0] = step\n",
    "    h_results[n][1] = h.mean()\n",
    "    h_results[n][2] = h.std()\n",
    "    h_results[n][3] = box_size"
   ]
  },
  {
   "cell_type": "code",
   "execution_count": 30,
   "id": "b031a39d",
   "metadata": {},
   "outputs": [
    {
     "data": {
      "image/png": "[encoded data removed]",
      "text/plain": [
       "<Figure size 432x288 with 1 Axes>"
      ]
     },
     "metadata": {
      "needs_background": "light"
     },
     "output_type": "display_data"
    }
   ],
   "source": [
    "plt.scatter((10.0/9.0)*h_results[:,3], h_results[:,1], s=20)\n",
    "plt.ylabel('Entropy')\n",
    "plt.xlabel('N')\n",
    "plt.title(f'Dependence of entropy with box_sizes for t={t}')\n",
    "plt.savefig(f'Entropy_N_t_{t}.png')"
   ]
  },
  {
   "cell_type": "code",
   "execution_count": 42,
   "id": "01e15c56",
   "metadata": {},
   "outputs": [
    {
     "data": {
      "image/png": "[encoded data removed]",
      "text/plain": [
       "<Figure size 432x288 with 1 Axes>"
      ]
     },
     "metadata": {
      "needs_background": "light"
     },
     "output_type": "display_data"
    }
   ],
   "source": [
    "plt.scatter(h_results[:,0], h_results[:,1], s=10)\n",
    "plt.errorbar(h_results[:,0], h_results[:,1], yerr=h_results[:,2], linestyle=\"None\")\n",
    "plt.ylabel(f'Entropy')\n",
    "#plt.ylabel(f'Entropy/log(N)')\n",
    "plt.xlabel(f'step')\n",
    "plt.title(f'Dependence of entropy for t={t}')\n",
    "plt.savefig(f'Entropy_{t}')"
   ]
  },
  {
   "cell_type": "code",
   "execution_count": 33,
   "id": "d36f2b3a",
   "metadata": {},
   "outputs": [
    {
     "data": {
      "text/plain": [
       "array([[3.60000000e+01, 4.71583913e+00, 8.88178420e-16, 9.00000000e+04],\n",
       "       [2.80000000e+01, 4.13932666e+00, 0.00000000e+00, 9.00000000e+04],\n",
       "       [3.40000000e+01, 4.51895954e+00, 0.00000000e+00, 9.00000000e+04],\n",
       "       [2.30000000e+01, 4.26933222e+00, 8.88178420e-16, 9.00000000e+04],\n",
       "       [2.00000000e+00, 4.45424613e+00, 8.88178420e-16, 9.00000000e+04],\n",
       "       [2.60000000e+01, 4.05496041e+00, 8.88178420e-16, 9.00000000e+04],\n",
       "       [6.00000000e+00, 4.34476690e+00, 0.00000000e+00, 9.00000000e+04],\n",
       "       [1.80000000e+01, 3.91842352e+00, 4.44089210e-16, 9.00000000e+04],\n",
       "       [5.40000000e+01, 5.31691725e+00, 0.00000000e+00, 9.00000000e+04],\n",
       "       [5.00000000e+01, 5.34457563e+00, 0.00000000e+00, 9.00000000e+04],\n",
       "       [1.20000000e+01, 4.42099831e+00, 0.00000000e+00, 9.00000000e+04],\n",
       "       [5.60000000e+01, 5.40426613e+00, 0.00000000e+00, 9.00000000e+04],\n",
       "       [8.00000000e+00, 4.57348643e+00, 0.00000000e+00, 9.00000000e+04],\n",
       "       [4.80000000e+01, 5.52291173e+00, 8.88178420e-16, 9.00000000e+04],\n",
       "       [2.50000000e+01, 4.31376806e+00, 0.00000000e+00, 9.00000000e+04],\n",
       "       [1.00000000e+01, 2.15112040e+00, 0.00000000e+00, 9.00000000e+04],\n",
       "       [4.20000000e+01, 5.20460054e+00, 0.00000000e+00, 9.00000000e+04],\n",
       "       [2.00000000e+01, 4.56007981e+00, 0.00000000e+00, 9.00000000e+04],\n",
       "       [1.40000000e+01, 4.99619470e+00, 0.00000000e+00, 9.00000000e+04],\n",
       "       [4.00000000e+00, 2.21786231e+00, 4.44089210e-16, 9.00000000e+04],\n",
       "       [3.20000000e+01, 4.49718441e+00, 0.00000000e+00, 9.00000000e+04],\n",
       "       [6.00000000e+01, 3.86138451e+00, 0.00000000e+00, 9.00000000e+04],\n",
       "       [4.00000000e+01, 4.79452753e+00, 0.00000000e+00, 9.00000000e+04],\n",
       "       [4.40000000e+01, 5.28810782e+00, 0.00000000e+00, 9.00000000e+04],\n",
       "       [4.60000000e+01, 5.26709459e+00, 0.00000000e+00, 9.00000000e+04],\n",
       "       [5.80000000e+01, 5.33016288e+00, 8.88178420e-16, 9.00000000e+04],\n",
       "       [3.00000000e+01, 4.58427866e+00, 0.00000000e+00, 9.00000000e+04],\n",
       "       [1.60000000e+01, 4.42486794e+00, 8.88178420e-16, 9.00000000e+04],\n",
       "       [3.80000000e+01, 4.74145976e+00, 0.00000000e+00, 9.00000000e+04],\n",
       "       [2.20000000e+01, 4.09291153e+00, 8.88178420e-16, 9.00000000e+04],\n",
       "       [5.20000000e+01, 5.36501412e+00, 0.00000000e+00, 9.00000000e+04]])"
      ]
     },
     "execution_count": 33,
     "metadata": {},
     "output_type": "execute_result"
    }
   ],
   "source": [
    "h_results"
   ]
  },
  {
   "cell_type": "code",
   "execution_count": 41,
   "id": "4102aece",
   "metadata": {},
   "outputs": [],
   "source": [
    "t=43\n",
    "\n",
    "#Analysis with box sizes\n",
    "\n",
    "n_steps = 50\n",
    "h_results = np.zeros((n_steps,3))\n",
    "\n",
    "box_size_rel = 0.10\n",
    "\n",
    "step = 60\n",
    "\n",
    "box_sizes = np.linspace(100, 200000, n_steps, dtype=int)\n",
    "\n",
    "for n,box_size in enumerate(box_sizes):\n",
    "\n",
    "    column = df[t][step].to_dict()\n",
    "    index = df[t].index\n",
    "\n",
    "    desampled = []\n",
    "    for element in column:\n",
    "        desampled.append([element for i in range(int(column[element]))])\n",
    "    desampled = list(itertools.chain(*desampled))\n",
    "    random.shuffle(desampled)\n",
    "    \n",
    "    #N = len(desampled)\n",
    "    #box_size = int(box_size_rel * N)\n",
    "    #box_size = 10000\n",
    "    box_number = int(1 / box_size_rel)\n",
    "    boxes = {}\n",
    "    boxes_df = {}\n",
    "    \n",
    "    h = np.zeros(box_number)\n",
    "    for i in range(box_number):\n",
    "        boxes[i] = desampled[i*box_size : (i+1)*box_size]\n",
    "\n",
    "\n",
    "    for i in range(box_number):\n",
    "        df_x = pd.DataFrame([], columns = ['seq'])\n",
    "        for j in range(box_number):\n",
    "            if j != i:\n",
    "                df_x = pd.concat([df_x, pd.DataFrame(boxes[j], columns= ['seq'])])\n",
    "                \n",
    "        boxes_df[i] = df_x.pivot_table(columns=['seq'], aggfunc='size')\n",
    "        boxes_df[i] = pd.DataFrame(boxes_df[i], columns=['abundance'])\n",
    "        boxes_df[i]['abundance_rel'] = boxes_df[i]['abundance'] / boxes_df[i]['abundance'].sum()\n",
    "        p = np.array(boxes_df[i]['abundance_rel'].tolist())\n",
    "        p = p[p.nonzero()]\n",
    "        p_log = np.log2(p)\n",
    "        p_h = -1.0*p*p_log\n",
    "        h[i] = p_h.sum()    \n",
    "    h_results[n][0] = box_size\n",
    "    h_results[n][1] = h.mean()\n",
    "    h_results[n][2] = h.std()"
   ]
  },
  {
   "cell_type": "code",
   "execution_count": 46,
   "id": "fdc8eaa3",
   "metadata": {},
   "outputs": [
    {
     "name": "stdout",
     "output_type": "stream",
     "text": [
      "slope=-0.09879360295337035, intercept=-0.1475111124703981\n"
     ]
    },
    {
     "data": {
      "image/png": "[encoded data removed]",
      "text/plain": [
       "<Figure size 640x480 with 1 Axes>"
      ]
     },
     "metadata": {},
     "output_type": "display_data"
    }
   ],
   "source": [
    "plt.figure()\n",
    "\n",
    "coef = np.polyfit(np.log2(h_results[:,0]), np.log2(h_results[:,1]/np.log2(h_results[:,0])), 1)\n",
    "print(f'slope={coef[0]}, intercept={coef[1]}')\n",
    "#poly1d_fn = np.poly1d(coef) \n",
    "\n",
    "plt.plot(h_results[:,0], h_results[:,1]/np.log2(h_results[:,0]), 'yo')#,x, poly1d_fn(x), '--k')\n",
    "plt.ylabel(f'Entropy/log2(N)')\n",
    "plt.xlabel(f'box_size')\n",
    "#plt.xscale('log')\n",
    "#plt.yscale('log')\n",
    "plt.title(f'Entropy vs. box_size for t={t} and step={step}')\n",
    "plt.savefig(f'entropy_sizebox_{t}_{step}.png')"
   ]
  },
  {
   "cell_type": "code",
   "execution_count": 32,
   "id": "efb94cf5",
   "metadata": {},
   "outputs": [
    {
     "data": {
      "text/plain": [
       "array([-0.08596561, -0.02789879])"
      ]
     },
     "execution_count": 32,
     "metadata": {},
     "output_type": "execute_result"
    }
   ],
   "source": [
    "coef = np.polyfit(np.log2(h_results[:,0]), np.log2(h_results[:,1]/np.log2(h_results[:,0])), 1)\n",
    "coef"
   ]
  },
  {
   "cell_type": "code",
   "execution_count": null,
   "id": "df4b83c4",
   "metadata": {},
   "outputs": [],
   "source": [
    "# Check the total number of sequences in each step"
   ]
  },
  {
   "cell_type": "code",
   "execution_count": 27,
   "id": "0171ff0b",
   "metadata": {},
   "outputs": [],
   "source": [
    "datadict = {}\n",
    "t=30\n",
    "for element in df[t].columns:\n",
    "    datadict[element] = int(df[t][element].sum())\n",
    "    \n",
    "dataf = pd.DataFrame.from_dict(datadict, orient='index', columns=['Total'])"
   ]
  },
  {
   "cell_type": "code",
   "execution_count": 28,
   "id": "67e3f691",
   "metadata": {},
   "outputs": [
    {
     "data": {
      "image/png": "[encoded data removed]",
      "text/plain": [
       "<Figure size 432x288 with 1 Axes>"
      ]
     },
     "metadata": {
      "needs_background": "light"
     },
     "output_type": "display_data"
    }
   ],
   "source": [
    "dataf.sort_values('Total', ascending=True)\n",
    "plt.scatter(dataf.index.tolist(), dataf['Total'].tolist())\n",
    "plt.ylabel('total of sequences')\n",
    "plt.xlabel('step')\n",
    "plt.title(f't={t}')\n",
    "plt.savefig(f'total_sequences_{t}.png')"
   ]
  },
  {
   "cell_type": "code",
   "execution_count": null,
   "id": "54f2b358",
   "metadata": {},
   "outputs": [],
   "source": []
  },
  {
   "cell_type": "code",
   "execution_count": null,
   "id": "7fd8d3de",
   "metadata": {},
   "outputs": [],
   "source": []
  },
  {
   "cell_type": "code",
   "execution_count": null,
   "id": "de197523",
   "metadata": {},
   "outputs": [],
   "source": []
  },
  {
   "cell_type": "code",
   "execution_count": null,
   "id": "723582a3",
   "metadata": {},
   "outputs": [],
   "source": []
  },
  {
   "cell_type": "code",
   "execution_count": null,
   "id": "8029f5a8",
   "metadata": {},
   "outputs": [],
   "source": []
  },
  {
   "cell_type": "code",
   "execution_count": null,
   "id": "5eba3f5e",
   "metadata": {},
   "outputs": [],
   "source": []
  },
  {
   "cell_type": "code",
   "execution_count": 56,
   "id": "9f03ae3b",
   "metadata": {},
   "outputs": [],
   "source": []
  },
  {
   "cell_type": "code",
   "execution_count": null,
   "id": "501d62cb",
   "metadata": {},
   "outputs": [],
   "source": []
  },
  {
   "cell_type": "code",
   "execution_count": null,
   "id": "9bf68b45",
   "metadata": {},
   "outputs": [],
   "source": []
  },
  {
   "cell_type": "code",
   "execution_count": null,
   "id": "7a91d1c9",
   "metadata": {},
   "outputs": [],
   "source": []
  },
  {
   "cell_type": "code",
   "execution_count": null,
   "id": "959c3fdd",
   "metadata": {},
   "outputs": [],
   "source": []
  },
  {
   "cell_type": "code",
   "execution_count": 92,
   "id": "f2fc2bd8",
   "metadata": {},
   "outputs": [],
   "source": []
  },
  {
   "cell_type": "code",
   "execution_count": null,
   "id": "7e9887d9",
   "metadata": {},
   "outputs": [],
   "source": []
  },
  {
   "cell_type": "code",
   "execution_count": null,
   "id": "cbd5c88f",
   "metadata": {},
   "outputs": [],
   "source": []
  },
  {
   "cell_type": "code",
   "execution_count": null,
   "id": "c6e265ce",
   "metadata": {},
   "outputs": [],
   "source": []
  },
  {
   "cell_type": "code",
   "execution_count": null,
   "id": "f3bf8c1c",
   "metadata": {},
   "outputs": [],
   "source": []
  },
  {
   "cell_type": "code",
   "execution_count": null,
   "id": "3f6afefa",
   "metadata": {},
   "outputs": [],
   "source": []
  },
  {
   "cell_type": "code",
   "execution_count": null,
   "id": "cb3e5675",
   "metadata": {},
   "outputs": [],
   "source": []
  },
  {
   "cell_type": "code",
   "execution_count": null,
   "id": "1f883e56",
   "metadata": {},
   "outputs": [],
   "source": []
  },
  {
   "cell_type": "code",
   "execution_count": null,
   "id": "74ee3016",
   "metadata": {},
   "outputs": [],
   "source": []
  },
  {
   "cell_type": "code",
   "execution_count": null,
   "id": "1ed93aba",
   "metadata": {},
   "outputs": [],
   "source": []
  },
  {
   "cell_type": "code",
   "execution_count": null,
   "id": "0a18c277",
   "metadata": {},
   "outputs": [],
   "source": []
  },
  {
   "cell_type": "code",
   "execution_count": null,
   "id": "30d6436b",
   "metadata": {},
   "outputs": [],
   "source": []
  },
  {
   "cell_type": "code",
   "execution_count": null,
   "id": "6a051b3f",
   "metadata": {},
   "outputs": [],
   "source": []
  },
  {
   "cell_type": "code",
   "execution_count": null,
   "id": "a0082f06",
   "metadata": {},
   "outputs": [],
   "source": []
  },
  {
   "cell_type": "code",
   "execution_count": null,
   "id": "ab06c5d6",
   "metadata": {},
   "outputs": [],
   "source": []
  },
  {
   "cell_type": "code",
   "execution_count": null,
   "id": "096b302e",
   "metadata": {},
   "outputs": [],
   "source": []
  },
  {
   "cell_type": "code",
   "execution_count": null,
   "id": "133f3cb5",
   "metadata": {},
   "outputs": [],
   "source": []
  },
  {
   "cell_type": "code",
   "execution_count": null,
   "id": "bdaab856",
   "metadata": {},
   "outputs": [],
   "source": []
  },
  {
   "cell_type": "code",
   "execution_count": null,
   "id": "203eef6a",
   "metadata": {},
   "outputs": [],
   "source": []
  },
  {
   "cell_type": "code",
   "execution_count": null,
   "id": "9b9c4626",
   "metadata": {},
   "outputs": [],
   "source": []
  },
  {
   "cell_type": "code",
   "execution_count": null,
   "id": "ca2993ad",
   "metadata": {},
   "outputs": [],
   "source": []
  },
  {
   "cell_type": "code",
   "execution_count": null,
   "id": "7b991f4e",
   "metadata": {},
   "outputs": [],
   "source": []
  },
  {
   "cell_type": "code",
   "execution_count": null,
   "id": "c14ae217",
   "metadata": {},
   "outputs": [],
   "source": []
  },
  {
   "cell_type": "code",
   "execution_count": null,
   "id": "8555cdaa",
   "metadata": {},
   "outputs": [],
   "source": []
  }
 ],
 "metadata": {
  "kernelspec": {
   "display_name": "Python 3 (ipykernel)",
   "language": "python",
   "name": "python3"
  },
  "language_info": {
   "codemirror_mode": {
    "name": "ipython",
    "version": 3
   },
   "file_extension": ".py",
   "mimetype": "text/x-python",
   "name": "python",
   "nbconvert_exporter": "python",
   "pygments_lexer": "ipython3",
   "version": "3.10.6"
  }
 },
 "nbformat": 4,
 "nbformat_minor": 5
}
