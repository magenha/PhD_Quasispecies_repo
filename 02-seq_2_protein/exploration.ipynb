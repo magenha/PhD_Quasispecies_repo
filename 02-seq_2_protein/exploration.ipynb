{
 "cells": [
  {
   "cell_type": "code",
   "execution_count": 1,
   "id": "eaf396f7",
   "metadata": {},
   "outputs": [],
   "source": [
    "import numpy as np\n",
    "import matplotlib.pyplot as plt\n",
    "import pandas as pd"
   ]
  },
  {
   "cell_type": "code",
   "execution_count": 2,
   "id": "98ded48b",
   "metadata": {},
   "outputs": [],
   "source": [
    "sequence='CAACAAGGACAGCTATATCATAATATCGGTATTGTAGACGGCTTTGACAGACGTGACATCCGGCTCAAATCTTTCCCCATAAAAGGTGAACGAAATGGGCGGCCTGTTAACGTTTCTGCTAGCCTGTCTGCTGTCGATTTATTTTACAGCCGACTCCATACGAGCAATCTTCCGTTCGCTACACTAGAGCTTGATACGACCTTTAGTTCGTTTAAACACGTTCTTGATAGTATCTTTTTATTAACCCAACGCATAAAGCGTTGAAACTTTG'"
   ]
  },
  {
   "cell_type": "code",
   "execution_count": 3,
   "id": "04f6a43e",
   "metadata": {},
   "outputs": [],
   "source": [
    "codon_2_seq = {\n",
    "    'UUU': 'F', \n",
    "    'UUC': 'F',\n",
    "    'UUA': 'L',\n",
    "    'UUG': 'L',\n",
    "    'UCU': 'S', \n",
    "    'UCC': 'S',\n",
    "    'UCA': 'S',\n",
    "    'UCG': 'S',\n",
    "    'UAU': 'Y', \n",
    "    'UAC': 'Y',\n",
    "    'UAA': 'Stop',\n",
    "    'UAG': 'Stop',\n",
    "    'UGU': 'C', \n",
    "    'UGC': 'C',\n",
    "    'UGA': 'Stop',\n",
    "    'UGG': 'W',\n",
    "    'CUU': 'L', \n",
    "    'CUC': 'L',\n",
    "    'CUA': 'L',\n",
    "    'CUG': 'L',\n",
    "    'CCU': 'P', \n",
    "    'CCC': 'P',\n",
    "    'CCA': 'P',\n",
    "    'CCG': 'P',\n",
    "    'CAU': 'H', \n",
    "    'CAC': 'H',\n",
    "    'CAA': 'Q',\n",
    "    'CAG': 'Q',\n",
    "    'CGU': 'R', \n",
    "    'CGC': 'R',\n",
    "    'CGA': 'R',\n",
    "    'CGG': 'R',\n",
    "    'AUU': 'I', \n",
    "    'AUC': 'I',\n",
    "    'AUA': 'I',\n",
    "    'AUG': 'M',\n",
    "    'ACU': 'T', \n",
    "    'ACC': 'T',\n",
    "    'ACA': 'T',\n",
    "    'ACG': 'T',\n",
    "    'AAU': 'N', \n",
    "    'AAC': 'N',\n",
    "    'AAA': 'K',\n",
    "    'AAG': 'K',\n",
    "    'AGU': 'S', \n",
    "    'AGC': 'S',\n",
    "    'AGA': 'R',\n",
    "    'AGG': 'R',\n",
    "    'GUU': 'V', \n",
    "    'GUC': 'V',\n",
    "    'GUA': 'V',\n",
    "    'GUG': 'V',\n",
    "    'GCU': 'A', \n",
    "    'GCC': 'A',\n",
    "    'GCA': 'A',\n",
    "    'GCG': 'A',\n",
    "    'GAU': 'D', \n",
    "    'GAC': 'D',\n",
    "    'GAA': 'E',\n",
    "    'GAG': 'E',\n",
    "    'GGU': 'G', \n",
    "    'GGC': 'G',\n",
    "    'GGA': 'G',\n",
    "    'GGG': 'G'\n",
    "}"
   ]
  },
  {
   "cell_type": "code",
   "execution_count": 36,
   "id": "abfa6674",
   "metadata": {},
   "outputs": [],
   "source": [
    "def distance(seq, seq_ref):\n",
    "    '''\n",
    "        Function that returns the Humming distance between\n",
    "        two sequences\n",
    "        Input:\n",
    "            -sequence to compare\n",
    "            -reference sequence\n",
    "        Return:\n",
    "            -int : distance\n",
    "    '''\n",
    "    d=0\n",
    "    for char in range(len(seq_ref)):\n",
    "        if seq[char] != seq_ref[char]:\n",
    "            d+=1\n",
    "    return d"
   ]
  },
  {
   "cell_type": "code",
   "execution_count": null,
   "id": "27abffe7",
   "metadata": {},
   "outputs": [],
   "source": []
  },
  {
   "cell_type": "code",
   "execution_count": 4,
   "id": "9adce978",
   "metadata": {},
   "outputs": [],
   "source": [
    "x"
   ]
  },
  {
   "cell_type": "code",
   "execution_count": null,
   "id": "28fe6839",
   "metadata": {},
   "outputs": [],
   "source": []
  },
  {
   "cell_type": "code",
   "execution_count": 5,
   "id": "2effa379",
   "metadata": {},
   "outputs": [
    {
     "ename": "NameError",
     "evalue": "name 'aminos' is not defined",
     "output_type": "error",
     "traceback": [
      "\u001b[0;31m---------------------------------------------------------------------------\u001b[0m",
      "\u001b[0;31mNameError\u001b[0m                                 Traceback (most recent call last)",
      "Cell \u001b[0;32mIn [5], line 3\u001b[0m\n\u001b[1;32m      1\u001b[0m \u001b[38;5;66;03m# Histogram of sequences length for the three ORF\u001b[39;00m\n\u001b[0;32m----> 3\u001b[0m L \u001b[38;5;241m=\u001b[39m np\u001b[38;5;241m.\u001b[39marray([\u001b[38;5;28mlen\u001b[39m(a) \u001b[38;5;28;01mfor\u001b[39;00m a \u001b[38;5;129;01min\u001b[39;00m \u001b[43maminos\u001b[49m])\n",
      "\u001b[0;31mNameError\u001b[0m: name 'aminos' is not defined"
     ]
    }
   ],
   "source": [
    "# Histogram of sequences length for the three ORF\n",
    "\n",
    "L = np.array([len(a) for a in aminos])"
   ]
  },
  {
   "cell_type": "code",
   "execution_count": 6,
   "id": "504c0d41",
   "metadata": {},
   "outputs": [
    {
     "ename": "NameError",
     "evalue": "name 'L' is not defined",
     "output_type": "error",
     "traceback": [
      "\u001b[0;31m---------------------------------------------------------------------------\u001b[0m",
      "\u001b[0;31mNameError\u001b[0m                                 Traceback (most recent call last)",
      "Cell \u001b[0;32mIn [6], line 1\u001b[0m\n\u001b[0;32m----> 1\u001b[0m t \u001b[38;5;241m=\u001b[39m np\u001b[38;5;241m.\u001b[39mhstack(\u001b[43mL\u001b[49m)\n\u001b[1;32m      2\u001b[0m plt\u001b[38;5;241m.\u001b[39mhist(t, bins\u001b[38;5;241m=\u001b[39m\u001b[38;5;241m50\u001b[39m)\n\u001b[1;32m      3\u001b[0m plt\u001b[38;5;241m.\u001b[39mtitle(\u001b[38;5;124m\"\u001b[39m\u001b[38;5;124mHistogram\u001b[39m\u001b[38;5;124m\"\u001b[39m)\n",
      "\u001b[0;31mNameError\u001b[0m: name 'L' is not defined"
     ]
    }
   ],
   "source": [
    "t = np.hstack(L)\n",
    "plt.hist(t, bins=50)\n",
    "plt.title(\"Histogram\")\n",
    "plt.show()"
   ]
  },
  {
   "cell_type": "markdown",
   "id": "bfe63cf0",
   "metadata": {},
   "source": [
    "x"
   ]
  },
  {
   "cell_type": "code",
   "execution_count": 185,
   "id": "e4bd27c5",
   "metadata": {},
   "outputs": [
    {
     "name": "stdout",
     "output_type": "stream",
     "text": [
      "0\n",
      "87\n"
     ]
    }
   ],
   "source": [
    "#find the maximum length amino\n",
    "max_len = 0\n",
    "for i in range(len(aminos)):\n",
    "    if len(aminos[i])>max_len:\n",
    "        print(i)\n",
    "        max_len = len(aminos[i])\n",
    "        print(max_len)\n",
    "    "
   ]
  },
  {
   "cell_type": "code",
   "execution_count": 186,
   "id": "6166f52a",
   "metadata": {},
   "outputs": [
    {
     "data": {
      "text/plain": [
       "87"
      ]
     },
     "execution_count": 186,
     "metadata": {},
     "output_type": "execute_result"
    }
   ],
   "source": [
    "amino_seq_ref = 'QQGQLYHNIDIVDGFDRRDIRLKSFTIKGERNGRPVNVSASLSAVDLFYSRLHTSNLPFATLDLDTTFSSFKHVLDSIFLLTQRVKR' #Oir position 0 corresponds to 435\n",
    "len(amino_seq_ref)"
   ]
  },
  {
   "cell_type": "code",
   "execution_count": 187,
   "id": "427cdcdc",
   "metadata": {},
   "outputs": [],
   "source": [
    "#Resumee:\n",
    "#sequence at the beggining contains part of the RNA to produce A2 maturation protein, see https://www.ncbi.nlm.nih.gov/nucleotide/AB971354.1?report=genbank&log$=nuclalign&blast_rank=1&RID=4D4F271S016\n",
    "#that is if we read the sequence (not inverted) starting at position 1 instead of 0.\n",
    "#We can produce the last part of the A2 protein"
   ]
  },
  {
   "cell_type": "code",
   "execution_count": 188,
   "id": "d1e2edd6",
   "metadata": {},
   "outputs": [],
   "source": [
    "a = 'CAACAAGGTCAGCTATATCATAATATCGATATTGTAGACGGCTTTGACAGACGTGACATCCGGCTCAAATCTTTCACCATAAAAGGTGAACGAAATGGGCGGCCTGTTAACGTTTCTGCTAGCCTGTCTGCTGTCGATTTATTTTACAGCCGACTCCATACGAGCAATCTTCCGTTCGCTACACTAGATCTTGATACTACCTTTAGTTCGTTTAAACACGTTCTTGATAGTATCTTTTTATTAACCCAACGCGTAAAGCGTTGAAACTTTG'\n",
    "b = 'CAACAAGGTCAGCTATATCATAATATCGATATTGTAGACGGCTTTGACAGACGTGACATCCGGCTCAAATCTTTCACCATAAAAGGTGAACGAAATGGGCGGCCTGTTAACGTTTCTGCTAGCCTGTCTGCTGTCGATTTATTTTACAGCCGACTCCATACGAGCAATCTTCCGTTCGCTACACTAGATCTTGATACTACCTTTAGTTCGTTTAAACACGTTCTTGATAGTATCTTTTTATTAACCCAACGCATAAAGCGTTGAAACTTTG'\n",
    "c = 'CAACAAGGTCAGCTATATCATAATATCGGTATTGTAGACGGCTTTGACAGACGTGACATCCGGCTCAAATCTTTCACCATAAAAGGTGAACGAAATGGGCGGCCTGTTAACGTTTCTGCTAGCCTGTCTGCTGTCGATTTATTTTACAGCCGACTCCATACGAGCAATCTTCCGTTCGCTACACTAGATCTTGATACTACCTTTAGTTCGTTTAAACACGTTCTTGATAGTATCTTTTTATTAACCCAACGCATAAAGCGTTGAAACTTTG'\n",
    "d = 'CAACAAGGTCAGCTATATCATAATATCGATATTGTAGACGGCTTTGACAGACGTGACATCCGACTCAAATCTTTCACCATAAAAGGTGAACGAAATGGGCGGCCTGTTAACGTTTCTGCTAGCCTGTCTGCTGTCGATTTATTTTACAGCCGACTCCATACGAGCAATCTTCCGTTCGCTACACTAGATCTTGATACTACCTTTAGTTCGTTTAAACACGTTCTTGATAGTATCTTTTTATTAACCCAACGCGTAAAGCGTTGAAACTTTG'\n",
    "x = 'CAACAAGGTCAGCTATATCATAATATCGGTATTGTAGACGGCTTTGACAGACGTGACATCCGGCTCAAATCTTTCACCATAAAAGGTGAACGAAATGGGCGGCCTGTTAACGTTTCTGCTAGCCTGTCTGCTGTCGATTTATTTTACAGCCGACTCCATACGAGCAATCTTCCGTTCGCTACACTAGATCTTGATACTACCTTTAGTTCGTTTAAACACGTTCTTGATAGTATCTTTTTATTAACCCAACGCGTAAAGCGTTGAAACTTTG'"
   ]
  },
  {
   "cell_type": "code",
   "execution_count": 200,
   "id": "9421f45b",
   "metadata": {},
   "outputs": [
    {
     "data": {
      "text/plain": [
       "{84: ['V', 'I']}"
      ]
     },
     "execution_count": 200,
     "metadata": {},
     "output_type": "execute_result"
    }
   ],
   "source": [
    "case = seq_2_amino(b)[0]\n",
    "compare_proteins(case,amino_seq_ref)"
   ]
  },
  {
   "cell_type": "code",
   "execution_count": 6,
   "id": "645dc115",
   "metadata": {},
   "outputs": [],
   "source": [
    "dir_path = '/home/samuel/Documents/PhD/Quasispecies/Data/'\n",
    "index_name =  dir_path + 'seqs_index.dict'\n",
    "\n",
    "index_dict = {}\n",
    "\n",
    "with open(index_name, 'r') as f:\n",
    "    for line in f:\n",
    "        L = line.split('\\t')\n",
    "        index_dict[L[1][:-1]] = int(L[0])"
   ]
  },
  {
   "cell_type": "code",
   "execution_count": 13,
   "id": "86249001",
   "metadata": {},
   "outputs": [
    {
     "name": "stdout",
     "output_type": "stream",
     "text": [
      "271\n"
     ]
    }
   ],
   "source": [
    "sequences = list(set(index_dict.keys()))\n",
    "print(len(sequences[0]))"
   ]
  },
  {
   "cell_type": "code",
   "execution_count": 9,
   "id": "71575672",
   "metadata": {},
   "outputs": [
    {
     "data": {
      "text/plain": [
       "1729578"
      ]
     },
     "execution_count": 9,
     "metadata": {},
     "output_type": "execute_result"
    }
   ],
   "source": [
    "len(sequences)"
   ]
  },
  {
   "cell_type": "code",
   "execution_count": 16,
   "id": "61274e89",
   "metadata": {},
   "outputs": [],
   "source": [
    "sequences_without_N = [s for s in sequences if 'N' not in s and len(s)==271]"
   ]
  },
  {
   "cell_type": "code",
   "execution_count": 17,
   "id": "4175dfb5",
   "metadata": {},
   "outputs": [
    {
     "data": {
      "text/plain": [
       "1661137"
      ]
     },
     "execution_count": 17,
     "metadata": {},
     "output_type": "execute_result"
    }
   ],
   "source": [
    "len(sequences_without_N)"
   ]
  },
  {
   "cell_type": "code",
   "execution_count": 30,
   "id": "f1f22962",
   "metadata": {},
   "outputs": [],
   "source": [
    "#Read all files in /home/samuel/Documents/PhD/Quasispecies/Data/Sequences_filtered/N_rem_rem/\n",
    "folder_path = '/home/samuel/Documents/PhD/Quasispecies/Data/Sequences_filtered/N_rem_rem/'\n",
    "import os\n",
    "from os import listdir\n",
    "from os.path import isfile, join\n",
    "\n",
    "onlyfiles = [f for f in listdir(folder_path) if isfile(join(folder_path, f))]\n",
    "onlyfiles.sort()"
   ]
  },
  {
   "cell_type": "code",
   "execution_count": 31,
   "id": "df5f4366",
   "metadata": {},
   "outputs": [
    {
     "data": {
      "text/plain": [
       "'30-1-02-EL3_all_all_trim_merged_filter_sort_filter_length_collapsed_Nrem_rem.fasta'"
      ]
     },
     "execution_count": 31,
     "metadata": {},
     "output_type": "execute_result"
    }
   ],
   "source": [
    "onlyfiles[0]"
   ]
  },
  {
   "cell_type": "code",
   "execution_count": 34,
   "id": "58660111",
   "metadata": {},
   "outputs": [
    {
     "name": "stdout",
     "output_type": "stream",
     "text": [
      "2660590\n"
     ]
    }
   ],
   "source": [
    "i=0\n",
    "for thisfile in onlyfiles:\n",
    "    with open(os.path.join(folder_path, thisfile), 'r') as file:\n",
    "        lines = file.readlines()\n",
    "        \n",
    "        for line in lines:\n",
    "            if line[0] == '>':\n",
    "                pass\n",
    "            else:    \n",
    "                #print(line)\n",
    "                i+=1\n",
    "print(i)"
   ]
  },
  {
   "cell_type": "code",
   "execution_count": 101,
   "id": "a1a1bf2b",
   "metadata": {},
   "outputs": [
    {
     "data": {
      "text/plain": [
       "1661137"
      ]
     },
     "execution_count": 101,
     "metadata": {},
     "output_type": "execute_result"
    }
   ],
   "source": [
    "search_list = sequences_without_N\n",
    "#search_list.sort()\n",
    "\n",
    "len(search_list)"
   ]
  },
  {
   "cell_type": "code",
   "execution_count": 102,
   "id": "b3299a4b",
   "metadata": {},
   "outputs": [],
   "source": [
    "remaining = []\n",
    "visited = []\n",
    "#reference = search_list[1]\n",
    "neighbors = {}\n",
    "neighbors[reference] = []\n",
    "\n",
    "#nodes_with_no_neighbor = []\n",
    "i=0\n",
    "for reference in search_list[:1]:\n",
    "    for x in search_list:\n",
    "        i+=1\n",
    "        neighbors[reference] = []\n",
    "        d = distance(x,reference)\n",
    "        if d==0: \n",
    "            pass\n",
    "        elif d == 1:\n",
    "            neighbors[reference].append(x)\n",
    "        else:\n",
    "            remaining.append(x)\n",
    "        visited.append(reference)\n",
    "        #search_list.remove(x)\n",
    "        #search_list = remaining\n",
    "        #print(i, d)"
   ]
  },
  {
   "cell_type": "code",
   "execution_count": 103,
   "id": "c29a6af2",
   "metadata": {},
   "outputs": [
    {
     "data": {
      "text/plain": [
       "dict_values([[], []])"
      ]
     },
     "execution_count": 103,
     "metadata": {},
     "output_type": "execute_result"
    }
   ],
   "source": [
    "neighbors.values()"
   ]
  },
  {
   "cell_type": "code",
   "execution_count": 104,
   "id": "e784417b",
   "metadata": {},
   "outputs": [
    {
     "data": {
      "text/plain": [
       "'CACCAAGGTCAGCTATATCATAATATCGATCTTGTAGACGGCTTTGACAGACGTGACATCCGGCTCAAATCTTTCACCATAAAAGGTGAACGAAATGGGCGGCCTGTTAACGTTTCTGCTAGCCTGGCTGCTGTCGATTTATTTTACAGCCGACTCCATCCGAGCAATCTTCCGTTCGCTACACTAGATCTTGATACTACCTTTAGTTCGTTTAAACACGTTCTTGATAGTATCTTGTTATTAACCCAACGCGGAAAGCGTTGAAACTTTG'"
      ]
     },
     "execution_count": 104,
     "metadata": {},
     "output_type": "execute_result"
    }
   ],
   "source": [
    "search_list[0]"
   ]
  },
  {
   "cell_type": "code",
   "execution_count": 106,
   "id": "148a1176",
   "metadata": {},
   "outputs": [
    {
     "data": {
      "text/plain": [
       "1336340"
      ]
     },
     "execution_count": 106,
     "metadata": {},
     "output_type": "execute_result"
    }
   ],
   "source": [
    "index_dict['CACCAAGGTCAGCTATATCATAATATCGATCTTGTAGACGGCTTTGACAGACGTGACATCCGGCTCAAATCTTTCACCATAAAAGGTGAACGAAATGGGCGGCCTGTTAACGTTTCTGCTAGCCTGGCTGCTGTCGATTTATTTTACAGCCGACTCCATCCGAGCAATCTTCCGTTCGCTACACTAGATCTTGATACTACCTTTAGTTCGTTTAAACACGTTCTTGATAGTATCTTGTTATTAACCCAACGCGGAAAGCGTTGAAACTTTG']"
   ]
  },
  {
   "cell_type": "code",
   "execution_count": null,
   "id": "6c42262a",
   "metadata": {},
   "outputs": [],
   "source": []
  }
 ],
 "metadata": {
  "kernelspec": {
   "display_name": "Python 3 (ipykernel)",
   "language": "python",
   "name": "python3"
  },
  "language_info": {
   "codemirror_mode": {
    "name": "ipython",
    "version": 3
   },
   "file_extension": ".py",
   "mimetype": "text/x-python",
   "name": "python",
   "nbconvert_exporter": "python",
   "pygments_lexer": "ipython3",
   "version": "3.10.6"
  }
 },
 "nbformat": 4,
 "nbformat_minor": 5
}
