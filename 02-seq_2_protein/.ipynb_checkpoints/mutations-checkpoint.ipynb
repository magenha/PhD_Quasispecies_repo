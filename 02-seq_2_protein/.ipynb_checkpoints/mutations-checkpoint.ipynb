{
 "cells": [
  {
   "cell_type": "code",
   "execution_count": 1,
   "id": "fb49c621",
   "metadata": {},
   "outputs": [],
   "source": [
    "import pandas as pd\n",
    "import numpy as np\n",
    "import matplotlib.pyplot as plt"
   ]
  },
  {
   "cell_type": "code",
   "execution_count": 2,
   "id": "a60c7549",
   "metadata": {},
   "outputs": [],
   "source": [
    "#Read index  \n",
    "    \n",
    "    \n",
    "dir_path = '/home/samuel/Documents/PhD/Quasispecies/Data/'\n",
    "index_name =  dir_path + 'seqs_index.dict'\n",
    "\n",
    "index_dict = {}\n",
    "\n",
    "with open(index_name, 'r') as f:\n",
    "    for line in f:\n",
    "        L = line.split('\\t')\n",
    "        index_dict[L[1][:-1]] = int(L[0])\n",
    "seqs_list = list(index_dict.keys())\n"
   ]
  },
  {
   "cell_type": "code",
   "execution_count": 3,
   "id": "9153a3a2",
   "metadata": {},
   "outputs": [],
   "source": [
    "a = seqs_list[2]\n",
    "b = seqs_list[0]\n",
    "c = seqs_list[1]\n",
    "d = seqs_list[22]"
   ]
  },
  {
   "cell_type": "code",
   "execution_count": 4,
   "id": "7d0630f9",
   "metadata": {},
   "outputs": [],
   "source": [
    "def distance(seq, seq_ref):\n",
    "    '''\n",
    "        Function that returns the Humming distance between\n",
    "        two sequences\n",
    "        Input:\n",
    "            -sequence to compare\n",
    "            -reference sequence\n",
    "        Return:\n",
    "            -int : distance\n",
    "    '''\n",
    "    d=0\n",
    "    for char in range(len(seq_ref)):\n",
    "        if seq[char] != seq_ref[char]:\n",
    "            d+=1\n",
    "    return d"
   ]
  },
  {
   "cell_type": "code",
   "execution_count": 5,
   "id": "d58e37c3",
   "metadata": {},
   "outputs": [
    {
     "name": "stdout",
     "output_type": "stream",
     "text": [
      "\t\tMaximum updated to 1\n",
      "\t\tMaximum updated to 2\n",
      "\t\tMaximum updated to 3\n",
      "\t\tMaximum updated to 4\n",
      "\t\tMaximum updated to 5\n",
      "\t\tMaximum updated to 7\n",
      "\t\tMaximum updated to 8\n",
      "\t\tMaximum updated to 19\n",
      "\t\tMaximum updated to 23\n",
      "\t\tMaximum updated to 29\n",
      "\t\tMaximum updated to 30\n",
      "\t\tMaximum updated to 33\n",
      "\t\tMaximum updated to 40\n",
      "\t\tMaximum updated to 80\n",
      "\t\tMaximum updated to 95\n",
      "\t\tMaximum = 95\n"
     ]
    }
   ],
   "source": [
    "max_d = 0\n",
    "dist_dict = {}\n",
    "\n",
    "for sequence in seqs_list:\n",
    "    d = distance(sequence, a)\n",
    "    seq_id = index_dict[sequence]\n",
    "    #print(f'Distance={d} between {seq_id} and wt')\n",
    "    try: dist_dict[d] +=1\n",
    "    except: dist_dict[d] =1\n",
    "    if d>max_d:\n",
    "        max_d = d\n",
    "        print(f'\\t\\tMaximum updated to {max_d}')\n",
    "print(f'\\t\\tMaximum = {max_d}')"
   ]
  },
  {
   "cell_type": "code",
   "execution_count": 6,
   "id": "b5961bee",
   "metadata": {},
   "outputs": [],
   "source": [
    "dict(sorted(dist_dict.items()))\n",
    "\n",
    "x = np.array(list(dist_dict.keys()))\n",
    "x.sort()\n",
    "y = np.array([dist_dict[d] for d in x ])"
   ]
  },
  {
   "cell_type": "code",
   "execution_count": 7,
   "id": "38d266e8",
   "metadata": {},
   "outputs": [
    {
     "data": {
      "image/png": "[encoded data removed]",
      "text/plain": [
       "<Figure size 640x480 with 1 Axes>"
      ]
     },
     "metadata": {},
     "output_type": "display_data"
    }
   ],
   "source": [
    "plt.plot(x,y, 'o-')\n",
    "plt.yscale('log')\n",
    "plt.xscale('log')\n",
    "plt.ylabel('count')\n",
    "plt.xlabel('distance to hub')\n",
    "\n",
    "ax = plt.gca()\n",
    "ax.xaxis.grid()"
   ]
  },
  {
   "cell_type": "code",
   "execution_count": 8,
   "id": "7d3f0521",
   "metadata": {},
   "outputs": [],
   "source": [
    "#Given a sequence, get all sequences with neutral mutations\n",
    "\n",
    "codon_2_seq = {\n",
    "    'UUU': 'F', \n",
    "    'UUC': 'F',\n",
    "    'UUA': 'L',\n",
    "    'UUG': 'L',\n",
    "    'UCU': 'S', \n",
    "    'UCC': 'S',\n",
    "    'UCA': 'S',\n",
    "    'UCG': 'S',\n",
    "    'UAU': 'Y', \n",
    "    'UAC': 'Y',\n",
    "    'UAA': 'Stop',\n",
    "    'UAG': 'Stop',\n",
    "    'UGU': 'C', \n",
    "    'UGC': 'C',\n",
    "    'UGA': 'Stop',\n",
    "    'UGG': 'W',\n",
    "    'CUU': 'L', \n",
    "    'CUC': 'L',\n",
    "    'CUA': 'L',\n",
    "    'CUG': 'L',\n",
    "    'CCU': 'P', \n",
    "    'CCC': 'P',\n",
    "    'CCA': 'P',\n",
    "    'CCG': 'P',\n",
    "    'CAU': 'H', \n",
    "    'CAC': 'H',\n",
    "    'CAA': 'Q',\n",
    "    'CAG': 'Q',\n",
    "    'CGU': 'R', \n",
    "    'CGC': 'R',\n",
    "    'CGA': 'R',\n",
    "    'CGG': 'R',\n",
    "    'AUU': 'I', \n",
    "    'AUC': 'I',\n",
    "    'AUA': 'I',\n",
    "    'AUG': 'M',\n",
    "    'ACU': 'T', \n",
    "    'ACC': 'T',\n",
    "    'ACA': 'T',\n",
    "    'ACG': 'T',\n",
    "    'AAU': 'N', \n",
    "    'AAC': 'N',\n",
    "    'AAA': 'K',\n",
    "    'AAG': 'K',\n",
    "    'AGU': 'S', \n",
    "    'AGC': 'S',\n",
    "    'AGA': 'R',\n",
    "    'AGG': 'R',\n",
    "    'GUU': 'V', \n",
    "    'GUC': 'V',\n",
    "    'GUA': 'V',\n",
    "    'GUG': 'V',\n",
    "    'GCU': 'A', \n",
    "    'GCC': 'A',\n",
    "    'GCA': 'A',\n",
    "    'GCG': 'A',\n",
    "    'GAU': 'D', \n",
    "    'GAC': 'D',\n",
    "    'GAA': 'E',\n",
    "    'GAG': 'E',\n",
    "    'GGU': 'G', \n",
    "    'GGC': 'G',\n",
    "    'GGA': 'G',\n",
    "    'GGG': 'G'\n",
    "}\n",
    "\n",
    "def seq_2_amino(seq, initial=0):\n",
    "    '''\n",
    "    Function that given a sequence, return the aminoacid that it expresses.\n",
    "    \n",
    "    Input:\n",
    "        -sequence of DNA or RNA \n",
    "        -initial position of reading (ORF) (Optional)\n",
    "    Output:\n",
    "        -list of aminoacids\n",
    "    '''\n",
    "    x = seq#[::-1]\n",
    "    x = str(x[initial:]).upper()\n",
    "    x = x.replace('T', 'U')\n",
    "    x = list(x)\n",
    "    aminos = []\n",
    "    for i in range(len(x)//3):\n",
    "        codon=''.join(x[3*i:3*i+3])\n",
    "        codon = str(codon)\n",
    "        try:\n",
    "            amin = codon_2_seq[codon]\n",
    "            #print(f'aminoacid={amin}')\n",
    "            aminos.append(amin)\n",
    "        except:\n",
    "            print(f'codon {codon} not in dict')\n",
    "    aminos = ''.join(aminos)\n",
    "    aminos = aminos.split('Stop')\n",
    "    return aminos\n",
    "\n",
    "def compare_proteins(amin_1, amin_2):\n",
    "    '''\n",
    "    Function that compares two aminoacid and returns the differences.\n",
    "    Input:\n",
    "        -amin_1 & amin_2, aminoacids to compare\n",
    "    Output:\n",
    "        -dict having position: nucl_amin_1, nucl_amin_2\n",
    "    '''\n",
    "    results = {}\n",
    "    \n",
    "    if len(amin_1) != len(amin_2):\n",
    "        #print('Aminoacids of different length!')\n",
    "        return None\n",
    "    else:\n",
    "        for i in range(len(amin_1)):\n",
    "            if amin_1[i] != amin_2[i]:\n",
    "                results[i] = [amin_2[i], amin_1[i]]\n",
    "    return results"
   ]
  },
  {
   "cell_type": "code",
   "execution_count": 9,
   "id": "d32a8bdd",
   "metadata": {},
   "outputs": [
    {
     "name": "stdout",
     "output_type": "stream",
     "text": [
      "codon NAA not in dict\n",
      "codon UGN not in dict\n",
      "codon NAA not in dict\n",
      "codon UGN not in dict\n",
      "codon NAA not in dict\n",
      "codon UGN not in dict\n",
      "codon NGA not in dict\n",
      "codon UGN not in dict\n",
      "codon NAA not in dict\n",
      "codon UGN not in dict\n"
     ]
    }
   ],
   "source": [
    "alphabet = ['A','C', 'T', 'G']\n",
    "\n",
    "L = []\n",
    "for j in range(200):\n",
    "    origin_genotype = seqs_list[j]\n",
    "\n",
    "    protein_A2 = seq_2_amino(origin_genotype)[0]\n",
    "    neutral_space = []\n",
    "\n",
    "    for i,char in enumerate(origin_genotype):\n",
    "        if 'N' in origin_genotype:\n",
    "            pass\n",
    "        else:\n",
    "            for letter in alphabet:\n",
    "                if letter != char and i<len(origin_genotype):\n",
    "                    mutated_sequence = origin_genotype[:i] + letter + origin_genotype[i+1:]\n",
    "                elif letter != char and i==len(origin_genotype):\n",
    "                    mutated_sequence = origin_genotype[:i-1] + letter\n",
    "                mutant_protein = seq_2_amino(mutated_sequence)[0]\n",
    "                comparation = compare_proteins(mutant_protein, protein_A2)\n",
    "                if comparation == None:\n",
    "                    neutral = False\n",
    "                elif len(list(comparation.keys())):\n",
    "                    neutral = False\n",
    "                else:\n",
    "                    try:neutral_space.append(index_dict[mutated_sequence])\n",
    "                    except: neutral_space.append(mutated_sequence)\n",
    "                    #print(f'mutation {mutated_sequence} is neutral' )\n",
    "    L.append(len(neutral_space))"
   ]
  },
  {
   "cell_type": "code",
   "execution_count": 10,
   "id": "d43c8ef6",
   "metadata": {},
   "outputs": [],
   "source": [
    "new_letters_dict = {}\n",
    "\n",
    "for j in range(len(seqs_list)):\n",
    "    origin_genotype = seqs_list[j]\n",
    "    for char in origin_genotype:\n",
    "        if char not in alphabet:\n",
    "            try: new_letters_dict[char].append(index_dict[origin_genotype])\n",
    "            except: new_letters_dict[char] = [index_dict[origin_genotype]]\n",
    "for k in new_letters_dict.keys():\n",
    "    new_letters_dict[k] = list(set(new_letters_dict[k]))"
   ]
  },
  {
   "cell_type": "code",
   "execution_count": 16,
   "id": "085f5c9e",
   "metadata": {},
   "outputs": [
    {
     "name": "stdout",
     "output_type": "stream",
     "text": [
      "68441\n"
     ]
    }
   ],
   "source": [
    "print(len(new_letters_dict['N']))\n",
    "#print(new_letters_dict['N'])"
   ]
  },
  {
   "cell_type": "code",
   "execution_count": 19,
   "id": "b7dd9eba",
   "metadata": {},
   "outputs": [],
   "source": [
    "\n",
    "\n",
    "from os import listdir\n",
    "from os.path import isfile, join\n",
    "import os"
   ]
  },
  {
   "cell_type": "code",
   "execution_count": 20,
   "id": "bd22d089",
   "metadata": {},
   "outputs": [
    {
     "ename": "FileNotFoundError",
     "evalue": "[Errno 2] No such file or directory: '/home/samuel/Documents/PhD/Quasispecies/Data/Sequences_filtered/data/30-1-36-EL3_all_all_trim_merged_filter_sort_filter_length_collapsed.fasta'",
     "output_type": "error",
     "traceback": [
      "\u001b[0;31m---------------------------------------------------------------------------\u001b[0m",
      "\u001b[0;31mFileNotFoundError\u001b[0m                         Traceback (most recent call last)",
      "Cell \u001b[0;32mIn [20], line 27\u001b[0m\n\u001b[1;32m     25\u001b[0m file_name \u001b[38;5;241m=\u001b[39m WD \u001b[38;5;241m+\u001b[39m \u001b[38;5;124m'\u001b[39m\u001b[38;5;124m/data/\u001b[39m\u001b[38;5;124m'\u001b[39m \u001b[38;5;241m+\u001b[39m a\n\u001b[1;32m     26\u001b[0m seq_2_ab \u001b[38;5;241m=\u001b[39m {}\n\u001b[0;32m---> 27\u001b[0m \u001b[38;5;28;01mwith\u001b[39;00m \u001b[38;5;28;43mopen\u001b[39;49m\u001b[43m(\u001b[49m\u001b[43mfile_name\u001b[49m\u001b[43m,\u001b[49m\u001b[43m \u001b[49m\u001b[38;5;124;43m'\u001b[39;49m\u001b[38;5;124;43mr\u001b[39;49m\u001b[38;5;124;43m'\u001b[39;49m\u001b[43m)\u001b[49m \u001b[38;5;28;01mas\u001b[39;00m r:\n\u001b[1;32m     28\u001b[0m     \u001b[38;5;28;01mfor\u001b[39;00m line \u001b[38;5;129;01min\u001b[39;00m r:\n\u001b[1;32m     29\u001b[0m         \u001b[38;5;28;01mif\u001b[39;00m line[\u001b[38;5;241m0\u001b[39m] \u001b[38;5;241m==\u001b[39m \u001b[38;5;124m'\u001b[39m\u001b[38;5;124m>\u001b[39m\u001b[38;5;124m'\u001b[39m:\n",
      "File \u001b[0;32m~/mambaforge/lib/python3.10/site-packages/IPython/core/interactiveshell.py:282\u001b[0m, in \u001b[0;36m_modified_open\u001b[0;34m(file, *args, **kwargs)\u001b[0m\n\u001b[1;32m    275\u001b[0m \u001b[38;5;28;01mif\u001b[39;00m file \u001b[38;5;129;01min\u001b[39;00m {\u001b[38;5;241m0\u001b[39m, \u001b[38;5;241m1\u001b[39m, \u001b[38;5;241m2\u001b[39m}:\n\u001b[1;32m    276\u001b[0m     \u001b[38;5;28;01mraise\u001b[39;00m \u001b[38;5;167;01mValueError\u001b[39;00m(\n\u001b[1;32m    277\u001b[0m         \u001b[38;5;124mf\u001b[39m\u001b[38;5;124m\"\u001b[39m\u001b[38;5;124mIPython won\u001b[39m\u001b[38;5;124m'\u001b[39m\u001b[38;5;124mt let you open fd=\u001b[39m\u001b[38;5;132;01m{\u001b[39;00mfile\u001b[38;5;132;01m}\u001b[39;00m\u001b[38;5;124m by default \u001b[39m\u001b[38;5;124m\"\u001b[39m\n\u001b[1;32m    278\u001b[0m         \u001b[38;5;124m\"\u001b[39m\u001b[38;5;124mas it is likely to crash IPython. If you know what you are doing, \u001b[39m\u001b[38;5;124m\"\u001b[39m\n\u001b[1;32m    279\u001b[0m         \u001b[38;5;124m\"\u001b[39m\u001b[38;5;124myou can use builtins\u001b[39m\u001b[38;5;124m'\u001b[39m\u001b[38;5;124m open.\u001b[39m\u001b[38;5;124m\"\u001b[39m\n\u001b[1;32m    280\u001b[0m     )\n\u001b[0;32m--> 282\u001b[0m \u001b[38;5;28;01mreturn\u001b[39;00m \u001b[43mio_open\u001b[49m\u001b[43m(\u001b[49m\u001b[43mfile\u001b[49m\u001b[43m,\u001b[49m\u001b[43m \u001b[49m\u001b[38;5;241;43m*\u001b[39;49m\u001b[43margs\u001b[49m\u001b[43m,\u001b[49m\u001b[43m \u001b[49m\u001b[38;5;241;43m*\u001b[39;49m\u001b[38;5;241;43m*\u001b[39;49m\u001b[43mkwargs\u001b[49m\u001b[43m)\u001b[49m\n",
      "\u001b[0;31mFileNotFoundError\u001b[0m: [Errno 2] No such file or directory: '/home/samuel/Documents/PhD/Quasispecies/Data/Sequences_filtered/data/30-1-36-EL3_all_all_trim_merged_filter_sort_filter_length_collapsed.fasta'"
     ]
    }
   ],
   "source": [
    "abundance_N  = {}    #Dict   seq: max_abundance\n",
    "\n",
    "WD = '/home/samuel/Documents/PhD/Quasispecies/Data/Sequences_filtered/'\n",
    "mypath = WD \n",
    "\n",
    "\n",
    "#Obtain the file names\n",
    "onlyfiles = [f for f in listdir(mypath) if isfile(join(mypath, f))]\n",
    "data_dict = {}\n",
    "data_dict[43] = {}\n",
    "data_dict[30] = {}\n",
    "\n",
    "#Interpret file name, and extract step number from it\n",
    "\n",
    "for a in onlyfiles:    \n",
    "    if a[0] == 'c':\n",
    "        step = int(a.split('-')[1][1:])\n",
    "        t=43\n",
    "        #print(f'step={step} for t={t}')\n",
    "    elif a[0] == '3':\n",
    "        step = int(a.split('-')[2])\n",
    "        t=30\n",
    "        #print(f'step={step} for t={t}')\n",
    "    \n",
    "    file_name = WD + '/data/' + a\n",
    "    seq_2_ab = {}\n",
    "    with open(file_name, 'r') as r:\n",
    "        for line in r:\n",
    "            if line[0] == '>':\n",
    "                abundance = int(line.split('-')[1][:-1])\n",
    "                #print(abundance)\n",
    "            else:\n",
    "                sequence = line[:-1]\n",
    "                hapl = index_dict[sequence]\n",
    "                seq_2_ab[hapl]= abundance\n",
    "    data_dict[t][step] = seq_2_ab\n",
    "\n",
    "\n",
    "temps = [30, 43]\n",
    "\n",
    "df = {'': {'': {}, 'norm-euc': {}, 'norm-1': {}},\n",
    "      'log': {'': {}, 'norm-euc': {}, 'norm-1': {}}}\n",
    "\n",
    "#find the biggest abundance of the sequence:\n",
    "for sequence in new_letters_dict['N'][:1]:\n",
    "    #Swip all the abundances and temps and update\n",
    "    pass\n",
    "    \n",
    "    \n",
    "new_letters_dict['N']"
   ]
  },
  {
   "cell_type": "code",
   "execution_count": null,
   "id": "c06bf199",
   "metadata": {},
   "outputs": [],
   "source": [
    "#Who are these sequences? Neigbours of the hubs? Maximum abundance tey have in the experiment and when."
   ]
  }
 ],
 "metadata": {
  "kernelspec": {
   "display_name": "Python 3 (ipykernel)",
   "language": "python",
   "name": "python3"
  },
  "language_info": {
   "codemirror_mode": {
    "name": "ipython",
    "version": 3
   },
   "file_extension": ".py",
   "mimetype": "text/x-python",
   "name": "python",
   "nbconvert_exporter": "python",
   "pygments_lexer": "ipython3",
   "version": "3.10.6"
  }
 },
 "nbformat": 4,
 "nbformat_minor": 5
}
