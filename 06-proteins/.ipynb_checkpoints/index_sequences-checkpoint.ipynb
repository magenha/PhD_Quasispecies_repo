{
 "cells": [
  {
   "cell_type": "code",
   "execution_count": 1,
   "id": "0d9d55ca",
   "metadata": {},
   "outputs": [],
   "source": [
    "#import pandas as pd\n",
    "import numpy as np\n",
    "import os"
   ]
  },
  {
   "cell_type": "code",
   "execution_count": 2,
   "id": "d132e835",
   "metadata": {},
   "outputs": [],
   "source": [
    "#file_name = 'c43-p02-3-EL3_all_all_trim_merged_filter_sort_filter_length_collapsed.fasta'\n"
   ]
  },
  {
   "cell_type": "code",
   "execution_count": 31,
   "id": "5b6f1783",
   "metadata": {},
   "outputs": [],
   "source": [
    "with open(file_name, 'r') as f:\n",
    "    for line in f:\n",
    "\n",
    "        if line[0] == '>':\n",
    "            #print(f'This is a header: {line}')\n",
    "            #repetitions = int(line[1:-1].split('-')[1])\n",
    "            pass\n",
    "        else:\n",
    "            k = line[:-1]\n",
    "            if k in list(seqs_index.keys()):\n",
    "                pass\n",
    "            else:\n",
    "                seqs_index[k] = len(list(seqs_index.keys()))\n",
    "        print(f'Done file : {file_name}')"
   ]
  },
  {
   "cell_type": "code",
   "execution_count": 33,
   "id": "acca2571",
   "metadata": {},
   "outputs": [
    {
     "data": {
      "text/plain": [
       "37770"
      ]
     },
     "execution_count": 33,
     "metadata": {},
     "output_type": "execute_result"
    }
   ],
   "source": [
    "len(list(seqs_index.keys()))"
   ]
  },
  {
   "cell_type": "code",
   "execution_count": 3,
   "id": "ebfa07ae",
   "metadata": {},
   "outputs": [],
   "source": [
    "#Index the sequences by analyzing all sequences that appears in the dataset\n",
    "from os import listdir\n",
    "from os.path import isfile, join\n",
    "\n",
    "mypath = '/home/samuel/Documents/PhD/Quasispecies/Data/Sequences_filtered/Proteins/'\n",
    "file_output = mypath + 'seqs_index.dict'\n",
    "\n",
    "#Obtain the file names\n",
    "onlyfiles = [f for f in listdir(mypath) if isfile(join(mypath, f))]\n",
    "onlyfiles = [f for f in listdir(mypath) if isfile(join(mypath, f))]\n",
    "\n",
    "#Sequences index dicionary. If we have a dict saved, then we upload it \n",
    "#It has the shaple    index -> sequence\n",
    "seqs_index = {}\n",
    "with open(file_output, 'r') as f:\n",
    "    for line in f:\n",
    "        L = line.split('\\t')\n",
    "        seqs_index[int(L[0])] = L[1][:-1]\n",
    "\n",
    "repetitions = 0"
   ]
  },
  {
   "cell_type": "code",
   "execution_count": 68,
   "id": "be73a0c6",
   "metadata": {},
   "outputs": [
    {
     "name": "stdout",
     "output_type": "stream",
     "text": [
      "Done file : c43-p34-3-EL3_all_all_trim_merged_filter_sort_filter_length_collapsed.fasta\n",
      "Amount of sequences: 98811\n",
      "Done file : c43-p46-3-EL3_all_all_trim_merged_filter_sort_filter_length_collapsed.fasta\n",
      "Amount of sequences: 98811\n",
      "Done file : c43-p16-3-EL3_all_all_trim_merged_filter_sort_filter_length_collapsed.fasta\n",
      "Amount of sequences: 127764\n",
      "Done file : c43-p42-3-EL3_all_all_trim_merged_filter_sort_filter_length_collapsed.fasta\n",
      "Amount of sequences: 167371\n",
      "Done file : c43-p12-3-EL3_all_all_trim_merged_filter_sort_filter_length_collapsed.fasta\n",
      "Amount of sequences: 208282\n",
      "Done file : c43-p40-3-EL3_all_all_trim_merged_filter_sort_filter_length_collapsed.fasta\n",
      "Amount of sequences: 250112\n",
      "Done file : c43-p44-3-EL3_all_all_trim_merged_filter_sort_filter_length_collapsed.fasta\n",
      "Amount of sequences: 289006\n",
      "Done file : c43-p58-3-EL3_all_all_trim_merged_filter_sort_filter_length_collapsed.fasta\n",
      "Amount of sequences: 314022\n",
      "Done file : c43-p22-3-EL3_all_all_trim_merged_filter_sort_filter_length_collapsed.fasta\n",
      "Amount of sequences: 340475\n",
      "Done file : c43-p56-3-EL3_all_all_trim_merged_filter_sort_filter_length_collapsed.fasta\n",
      "Amount of sequences: 374943\n",
      "Done file : c43-p14-3-EL3_all_all_trim_merged_filter_sort_filter_length_collapsed.fasta\n",
      "Amount of sequences: 394172\n",
      "Done file : c43-p38-3-EL3_all_all_trim_merged_filter_sort_filter_length_collapsed.fasta\n",
      "Amount of sequences: 427447\n",
      "Done file : c43-p30-3-EL3_all_all_trim_merged_filter_sort_filter_length_collapsed.fasta\n",
      "Amount of sequences: 459957\n",
      "Done file : c43-p32-3-EL3_all_all_trim_merged_filter_sort_filter_length_collapsed.fasta\n",
      "Amount of sequences: 485708\n",
      "Done file : c43-p26-3-EL3_all_all_trim_merged_filter_sort_filter_length_collapsed.fasta\n",
      "Amount of sequences: 508065\n",
      "Done file : c43-p50-3-EL3_all_all_trim_merged_filter_sort_filter_length_collapsed.fasta\n",
      "Amount of sequences: 538001\n",
      "Done file : c43-p48-3-EL3_all_all_trim_merged_filter_sort_filter_length_collapsed.fasta\n",
      "Amount of sequences: 565096\n",
      "Done file : c43-p08-3-EL3_all_all_trim_merged_filter_sort_filter_length_collapsed.fasta\n",
      "Amount of sequences: 612135\n",
      "Done file : c43-p02-3-EL3_all_all_trim_merged_filter_sort_filter_length_collapsed.fasta\n",
      "Amount of sequences: 639639\n",
      "Done file : c43-p54-3-EL3_all_all_trim_merged_filter_sort_filter_length_collapsed.fasta\n",
      "Amount of sequences: 671600\n",
      "Done file : c43-p04-3-EL3_all_all_trim_merged_filter_sort_filter_length_collapsed.fasta\n",
      "Amount of sequences: 695399\n",
      "Done file : c43-p52-3-EL3_all_all_trim_merged_filter_sort_filter_length_collapsed.fasta\n",
      "Amount of sequences: 732406\n",
      "Done file : c43-p20-3-EL3_all_all_trim_merged_filter_sort_filter_length_collapsed.fasta\n",
      "Amount of sequences: 760135\n",
      "Done file : c43-p28-3-EL3_all_all_trim_merged_filter_sort_filter_length_collapsed.fasta\n",
      "Amount of sequences: 781574\n",
      "Done file : c43-p36-3-EL3_all_all_trim_merged_filter_sort_filter_length_collapsed.fasta\n",
      "Amount of sequences: 813589\n",
      "Done file : c43-p06-3-EL3_all_all_trim_merged_filter_sort_filter_length_collapsed.fasta\n",
      "Amount of sequences: 838398\n",
      "Done file : c43-p18-3-EL3_all_all_trim_merged_filter_sort_filter_length_collapsed.fasta\n",
      "Amount of sequences: 859950\n",
      "Done file : c43-p23-3-EL3_all_all_trim_merged_filter_sort_filter_length_collapsed.fasta\n",
      "Amount of sequences: 886630\n"
     ]
    }
   ],
   "source": [
    "for file_name in onlyfiles:\n",
    "    with open(mypath + '/'+ file_name, 'r') as f:\n",
    "        for line in f:\n",
    "\n",
    "            if line[0] == '>':\n",
    "                #print(f'This is a header: {line}')\n",
    "                #repetitions = int(line[1:-1].split('-')[1])\n",
    "                pass\n",
    "            else:\n",
    "                k = line[:-1]\n",
    "                if k in list(seqs_index.values()):\n",
    "                    pass\n",
    "                else:\n",
    "                    seqs_index[len(list(seqs_index.keys()))] = k\n",
    "        print(f'Done file : {file_name}')\n",
    "        print(f'Amount of sequences: {len(list(seqs_index.keys()))}')\n",
    "\n",
    "#Save dict\n",
    "\n",
    "with open(file_output, 'w') as f:\n",
    "    for k in seqs_index.keys():\n",
    "        f.write(f'{k}\\t{seqs_index[k]}\\n')"
   ]
  },
  {
   "cell_type": "code",
   "execution_count": 61,
   "id": "332ff241",
   "metadata": {},
   "outputs": [],
   "source": []
  },
  {
   "cell_type": "code",
   "execution_count": 69,
   "id": "1ff1c285",
   "metadata": {},
   "outputs": [],
   "source": [
    "seqs_index = {}\n"
   ]
  },
  {
   "cell_type": "code",
   "execution_count": 65,
   "id": "646e029b",
   "metadata": {},
   "outputs": [
    {
     "data": {
      "text/plain": [
       "98811"
      ]
     },
     "execution_count": 65,
     "metadata": {},
     "output_type": "execute_result"
    }
   ],
   "source": []
  },
  {
   "cell_type": "code",
   "execution_count": null,
   "id": "6c9f3450",
   "metadata": {},
   "outputs": [],
   "source": []
  }
 ],
 "metadata": {
  "kernelspec": {
   "display_name": "Python 3 (ipykernel)",
   "language": "python",
   "name": "python3"
  },
  "language_info": {
   "codemirror_mode": {
    "name": "ipython",
    "version": 3
   },
   "file_extension": ".py",
   "mimetype": "text/x-python",
   "name": "python",
   "nbconvert_exporter": "python",
   "pygments_lexer": "ipython3",
   "version": "3.10.6"
  }
 },
 "nbformat": 4,
 "nbformat_minor": 5
}
